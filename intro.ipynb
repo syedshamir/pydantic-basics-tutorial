{
 "cells": [
  {
   "cell_type": "markdown",
   "id": "eb40f308",
   "metadata": {},
   "source": [
    "PYD\n",
    "ANTIC BASICS"
   ]
  },
  {
   "cell_type": "code",
   "execution_count": 2,
   "id": "d034ade9",
   "metadata": {},
   "outputs": [],
   "source": [
    "from pydantic import BaseModel"
   ]
  },
  {
   "cell_type": "code",
   "execution_count": 3,
   "id": "fe60622c",
   "metadata": {},
   "outputs": [
    {
     "name": "stdout",
     "output_type": "stream",
     "text": [
      "name='John Doe' age=30 email='shamir@gmail.com' city='New York'\n"
     ]
    }
   ],
   "source": [
    "class Person(BaseModel):\n",
    "    name: str\n",
    "    age: int\n",
    "    email: str\n",
    "    city: str\n",
    "\n",
    "person = Person(\n",
    "    name=\"John Doe\",\n",
    "    age=30,\n",
    "    email=\"shamir@gmail.com\",\n",
    "    city=\"New York\")\n",
    "    \n",
    "print(person)    "
   ]
  },
  {
   "cell_type": "markdown",
   "id": "6492f760",
   "metadata": {},
   "source": [
    "### Model with Optional Fields"
   ]
  },
  {
   "cell_type": "code",
   "execution_count": 6,
   "id": "de613703",
   "metadata": {},
   "outputs": [],
   "source": [
    "from typing import Optional\n",
    "class Employee(BaseModel):\n",
    "    id: int\n",
    "    name: str\n",
    "    age: int\n",
    "    email: str\n",
    "    city: str\n",
    "    salary: Optional[float] = None # Optional with default value as None\n",
    "    department: Optional[str] = None # Optional with default value as None"
   ]
  },
  {
   "cell_type": "code",
   "execution_count": 7,
   "id": "bdd8c4a7",
   "metadata": {},
   "outputs": [],
   "source": [
    "emp = Employee(id = 1, name = \"John\", age = 25, email = \"john@google.com\", city = \"New York\")"
   ]
  },
  {
   "cell_type": "code",
   "execution_count": 8,
   "id": "76b0f030",
   "metadata": {},
   "outputs": [
    {
     "data": {
      "text/plain": [
       "Employee(id=1, name='John', age=25, email='john@google.com', city='New York', salary=None, department=None)"
      ]
     },
     "execution_count": 8,
     "metadata": {},
     "output_type": "execute_result"
    }
   ],
   "source": [
    "emp"
   ]
  },
  {
   "cell_type": "code",
   "execution_count": 10,
   "id": "ba63477a",
   "metadata": {},
   "outputs": [
    {
     "data": {
      "text/plain": [
       "Employee(id=2, name='Johny', age=27, email='johny@google.com', city='New York', salary=1000.0, department='HR')"
      ]
     },
     "execution_count": 10,
     "metadata": {},
     "output_type": "execute_result"
    }
   ],
   "source": [
    "emp2 = Employee(id = 2, name = \"Johny\", age = 27, email = \"johny@google.com\", city = \"New York\", salary= 1000, department = \"HR\")\n",
    "emp2"
   ]
  },
  {
   "cell_type": "code",
   "execution_count": null,
   "id": "5a3be338",
   "metadata": {},
   "outputs": [],
   "source": []
  },
  {
   "cell_type": "code",
   "execution_count": 11,
   "id": "860da38b",
   "metadata": {},
   "outputs": [],
   "source": [
    "from pydantic import BaseModel\n",
    "from typing import List, Optional\n",
    "\n",
    "class Classroom(BaseModel):\n",
    "    name: str\n",
    "    students: List[str]\n",
    "    teacher: Optional[str] = None  # Optional with default value as None\n",
    "    capacity:int"
   ]
  },
  {
   "cell_type": "code",
   "execution_count": 12,
   "id": "3a725430",
   "metadata": {},
   "outputs": [
    {
     "data": {
      "text/plain": [
       "Classroom(name='Math 101', students=['Alice', 'Bob', 'Charlie'], teacher='Mr. Smith', capacity=30)"
      ]
     },
     "execution_count": 12,
     "metadata": {},
     "output_type": "execute_result"
    }
   ],
   "source": [
    "classroom = Classroom(\n",
    "    name=\"Math 101\",\n",
    "    students=[\"Alice\", \"Bob\", \"Charlie\"],\n",
    "    teacher=\"Mr. Smith\",\n",
    "    capacity=30\n",
    ")\n",
    "classroom"
   ]
  },
  {
   "cell_type": "code",
   "execution_count": 14,
   "id": "875f5760",
   "metadata": {},
   "outputs": [
    {
     "data": {
      "text/plain": [
       "Classroom(name='Physics 101', students=['Alice', 'Bob', 'Charlie'], teacher='Mr. Ahmed', capacity=30)"
      ]
     },
     "execution_count": 14,
     "metadata": {},
     "output_type": "execute_result"
    }
   ],
   "source": [
    "classroom2 = Classroom(\n",
    "    name=\"Physics 101\",\n",
    "    students=(\"Alice\", \"Bob\", \"Charlie\"),\n",
    "    teacher=\"Mr. Ahmed\",\n",
    "    capacity=30\n",
    ")\n",
    "classroom2\n",
    "#Type casting here, we mentioned that Class Classroom has students as List but we are passing tuple here.\n",
    "# But Pydantic will convert it to List automatically.\n",
    "# This is the beauty of Pydantic, it will do the type casting for you.\n",
    "# You can also pass a tuple, and Pydantic will convert it to a list automatically."
   ]
  },
  {
   "cell_type": "markdown",
   "id": "4de5e3a5",
   "metadata": {},
   "source": [
    "### Model with Nested Model"
   ]
  },
  {
   "cell_type": "code",
   "execution_count": 17,
   "id": "7d9c8e42",
   "metadata": {},
   "outputs": [
    {
     "name": "stdout",
     "output_type": "stream",
     "text": [
      "name='John Doe' customer_id=1 address=Address(street='123 Main St', city='New York', zip_code=10001)\n"
     ]
    }
   ],
   "source": [
    "from pydantic import BaseModel, Field\n",
    "from typing import Optional\n",
    "\n",
    "class Address(BaseModel):\n",
    "    street: str\n",
    "    city: str\n",
    "    zip_code: int\n",
    "\n",
    "class Customer(BaseModel):\n",
    "    name: str\n",
    "    customer_id: int\n",
    "    address: Address\n",
    "    #phone: Optional[str] = Field(None, regex=r'^\\+?\\d{10,15}$')  # Optional with regex validation    \n",
    "\n",
    "#create a customer object\n",
    "\n",
    "custoemr = Customer(\n",
    "    customer_id=1,\n",
    "    name=\"John Doe\",\n",
    "    address={\"street\": \"123 Main St\", \"city\": \"New York\", \"zip_code\": 10001}\n",
    ")\n",
    "\n",
    "print(custoemr)"
   ]
  },
  {
   "cell_type": "markdown",
   "id": "74608275",
   "metadata": {},
   "source": [
    "### Pydantic Fields: Customization and Constraints\n"
   ]
  },
  {
   "cell_type": "code",
   "execution_count": 18,
   "id": "4cc2d84c",
   "metadata": {},
   "outputs": [],
   "source": [
    "from typing import List, Dict, Any\n",
    "from pydantic import BaseModel, Field\n",
    "\n",
    "class Item(BaseModel):\n",
    "    name: str= Field(min_length=2, max_length=50)  # Name must be between 1 and 50 characters\n",
    "    price: float=Field(gt=0, le=1000)  # Price must be greater than 0 and less than or equal to 1000\n",
    "    qty: int=Field(ge=0)  # Quantity must be greater than or equal to 0\n",
    "    #tags: List[str] = Field(default_factory=list)  # Default to an empty list"
   ]
  },
  {
   "cell_type": "code",
   "execution_count": 19,
   "id": "dca3787e",
   "metadata": {},
   "outputs": [
    {
     "name": "stdout",
     "output_type": "stream",
     "text": [
      "name='Laptop' price=999.99 qty=10\n"
     ]
    }
   ],
   "source": [
    "item = Item(name=\"Laptop\", price=999.99, qty=10)\n",
    "print(item)"
   ]
  },
  {
   "cell_type": "code",
   "execution_count": 20,
   "id": "670b944e",
   "metadata": {},
   "outputs": [
    {
     "ename": "ValidationError",
     "evalue": "1 validation error for Item\nprice\n  Input should be greater than 0 [type=greater_than, input_value=-999.99, input_type=float]\n    For further information visit https://errors.pydantic.dev/2.11/v/greater_than",
     "output_type": "error",
     "traceback": [
      "\u001b[31m---------------------------------------------------------------------------\u001b[39m",
      "\u001b[31mValidationError\u001b[39m                           Traceback (most recent call last)",
      "\u001b[36mCell\u001b[39m\u001b[36m \u001b[39m\u001b[32mIn[20]\u001b[39m\u001b[32m, line 1\u001b[39m\n\u001b[32m----> \u001b[39m\u001b[32m1\u001b[39m item2 = \u001b[43mItem\u001b[49m\u001b[43m(\u001b[49m\u001b[43mname\u001b[49m\u001b[43m=\u001b[49m\u001b[33;43m\"\u001b[39;49m\u001b[33;43mLaptop\u001b[39;49m\u001b[33;43m\"\u001b[39;49m\u001b[43m,\u001b[49m\u001b[43m \u001b[49m\u001b[43mprice\u001b[49m\u001b[43m=\u001b[49m\u001b[43m-\u001b[49m\u001b[32;43m999.99\u001b[39;49m\u001b[43m,\u001b[49m\u001b[43m \u001b[49m\u001b[43mqty\u001b[49m\u001b[43m=\u001b[49m\u001b[32;43m10\u001b[39;49m\u001b[43m)\u001b[49m\n\u001b[32m      2\u001b[39m \u001b[38;5;28mprint\u001b[39m(item2)\n",
      "\u001b[36mFile \u001b[39m\u001b[32mc:\\Users\\ASUS\\OneDrive\\Desktop\\Nafi\\Gen_AI\\GENAI_PROJECTS\\Langgraph\\Pydantic\\.venv\\Lib\\site-packages\\pydantic\\main.py:253\u001b[39m, in \u001b[36mBaseModel.__init__\u001b[39m\u001b[34m(self, **data)\u001b[39m\n\u001b[32m    251\u001b[39m \u001b[38;5;66;03m# `__tracebackhide__` tells pytest and some other tools to omit this function from tracebacks\u001b[39;00m\n\u001b[32m    252\u001b[39m __tracebackhide__ = \u001b[38;5;28;01mTrue\u001b[39;00m\n\u001b[32m--> \u001b[39m\u001b[32m253\u001b[39m validated_self = \u001b[38;5;28;43mself\u001b[39;49m\u001b[43m.\u001b[49m\u001b[43m__pydantic_validator__\u001b[49m\u001b[43m.\u001b[49m\u001b[43mvalidate_python\u001b[49m\u001b[43m(\u001b[49m\u001b[43mdata\u001b[49m\u001b[43m,\u001b[49m\u001b[43m \u001b[49m\u001b[43mself_instance\u001b[49m\u001b[43m=\u001b[49m\u001b[38;5;28;43mself\u001b[39;49m\u001b[43m)\u001b[49m\n\u001b[32m    254\u001b[39m \u001b[38;5;28;01mif\u001b[39;00m \u001b[38;5;28mself\u001b[39m \u001b[38;5;129;01mis\u001b[39;00m \u001b[38;5;129;01mnot\u001b[39;00m validated_self:\n\u001b[32m    255\u001b[39m     warnings.warn(\n\u001b[32m    256\u001b[39m         \u001b[33m'\u001b[39m\u001b[33mA custom validator is returning a value other than `self`.\u001b[39m\u001b[38;5;130;01m\\n\u001b[39;00m\u001b[33m'\u001b[39m\n\u001b[32m    257\u001b[39m         \u001b[33m\"\u001b[39m\u001b[33mReturning anything other than `self` from a top level model validator isn\u001b[39m\u001b[33m'\u001b[39m\u001b[33mt supported when validating via `__init__`.\u001b[39m\u001b[38;5;130;01m\\n\u001b[39;00m\u001b[33m\"\u001b[39m\n\u001b[32m    258\u001b[39m         \u001b[33m'\u001b[39m\u001b[33mSee the `model_validator` docs (https://docs.pydantic.dev/latest/concepts/validators/#model-validators) for more details.\u001b[39m\u001b[33m'\u001b[39m,\n\u001b[32m    259\u001b[39m         stacklevel=\u001b[32m2\u001b[39m,\n\u001b[32m    260\u001b[39m     )\n",
      "\u001b[31mValidationError\u001b[39m: 1 validation error for Item\nprice\n  Input should be greater than 0 [type=greater_than, input_value=-999.99, input_type=float]\n    For further information visit https://errors.pydantic.dev/2.11/v/greater_than"
     ]
    }
   ],
   "source": [
    "item2 = Item(name=\"Laptop\", price=-999.99, qty=10)\n",
    "print(item2)"
   ]
  },
  {
   "cell_type": "markdown",
   "id": "352e19df",
   "metadata": {},
   "source": [
    "### Pydantic with Field Description"
   ]
  },
  {
   "cell_type": "code",
   "execution_count": 25,
   "id": "3c3f7246",
   "metadata": {},
   "outputs": [
    {
     "name": "stdout",
     "output_type": "stream",
     "text": [
      "username='john_doe' age=18 email='user@example.com'\n",
      "username='johny_alice' age=18 email='user@example.com'\n"
     ]
    }
   ],
   "source": [
    "from pydantic import BaseModel, Field\n",
    "\n",
    "class User(BaseModel):\n",
    "    username: str = Field(..., description=\"Unique user name\")  # Required field with length constraints\n",
    "    age: int = Field(default = 18,  description = \"User age, defaults to 18\" )  # Required field with a minimum value of 0\n",
    "    email: str = Field(default_factory=lambda:\"user@example.com\", description=\"Valid email address\") \n",
    "\n",
    "user1 = User(username=\"john_doe\")\n",
    "print(user1)    \n",
    "\n",
    "user2 = User(username=\"johny_alice\")\n",
    "print(user2)    \n"
   ]
  },
  {
   "cell_type": "code",
   "execution_count": 26,
   "id": "ce4a3934",
   "metadata": {},
   "outputs": [
    {
     "name": "stdout",
     "output_type": "stream",
     "text": [
      "{'properties': {'username': {'description': 'Unique user name', 'title': 'Username', 'type': 'string'}, 'age': {'default': 18, 'description': 'User age, defaults to 18', 'title': 'Age', 'type': 'integer'}, 'email': {'description': 'Valid email address', 'title': 'Email', 'type': 'string'}}, 'required': ['username'], 'title': 'User', 'type': 'object'}\n"
     ]
    }
   ],
   "source": [
    "print(User.model_json_schema())  # Print the JSON schema for the User model"
   ]
  },
  {
   "cell_type": "code",
   "execution_count": null,
   "id": "92a3279f",
   "metadata": {},
   "outputs": [],
   "source": []
  },
  {
   "cell_type": "code",
   "execution_count": null,
   "id": "c1e8260e",
   "metadata": {},
   "outputs": [],
   "source": []
  }
 ],
 "metadata": {
  "kernelspec": {
   "display_name": ".venv",
   "language": "python",
   "name": "python3"
  },
  "language_info": {
   "codemirror_mode": {
    "name": "ipython",
    "version": 3
   },
   "file_extension": ".py",
   "mimetype": "text/x-python",
   "name": "python",
   "nbconvert_exporter": "python",
   "pygments_lexer": "ipython3",
   "version": "3.11.9"
  }
 },
 "nbformat": 4,
 "nbformat_minor": 5
}
